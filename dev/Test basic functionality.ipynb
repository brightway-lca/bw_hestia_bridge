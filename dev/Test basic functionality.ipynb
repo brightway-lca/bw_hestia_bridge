{
 "cells": [
  {
   "cell_type": "code",
   "execution_count": 1,
   "id": "b3f75293-1179-459c-bc77-c19f08c66285",
   "metadata": {},
   "outputs": [],
   "source": [
    "import bw2data as bd\n",
    "import bw_hestia_bridge as bhb"
   ]
  },
  {
   "cell_type": "code",
   "execution_count": 2,
   "id": "35414d38-ce77-422c-a99e-2ec065d3a850",
   "metadata": {},
   "outputs": [],
   "source": [
    "bd.projects.set_current(\"ecoinvent-3.9-cutoff\")"
   ]
  },
  {
   "cell_type": "code",
   "execution_count": 3,
   "id": "64666ee5-3808-4464-811c-6d281ff9a93b",
   "metadata": {},
   "outputs": [],
   "source": [
    "imp = bhb.HestiaImporter(\"__shpuarrure\", \"ecoinvent-3.9-cutoff\", staging=True)"
   ]
  },
  {
   "cell_type": "code",
   "execution_count": 4,
   "id": "eb8af71c-946d-49d1-aaad-7cf614baba4e",
   "metadata": {},
   "outputs": [
    {
     "name": "stdout",
     "output_type": "stream",
     "text": [
      "Applying strategy: convert\n",
      "Applying strategy: normalize_units\n",
      "Applying strategy: drop_zeros\n",
      "Applying strategy: add_code_from_hestia_attributes\n",
      "Applying strategy: add_database_name\n",
      "Applying strategy: link_ecoinvent_biosphere\n",
      "Applying strategy: link_ecoinvent_technosphere\n",
      "Geomatcher: Used 'MY' for 'Cropland - Malaysia'\n",
      "Geomatcher: Used 'MY' for 'Cropland - Malaysia'\n",
      "Applied 7 strategies in 4.34 seconds\n"
     ]
    }
   ],
   "source": [
    "imp.apply_strategies()"
   ]
  },
  {
   "cell_type": "code",
   "execution_count": 6,
   "id": "21080250-d0ba-4e52-8e51-6c6391d89656",
   "metadata": {},
   "outputs": [
    {
     "name": "stdout",
     "output_type": "stream",
     "text": [
      "7 datasets\n",
      "51 exchanges\n",
      "15 unlinked exchanges\n",
      "  Type production: 6 unique unlinked exchanges\n",
      "  Type technosphere: 9 unique unlinked exchanges\n"
     ]
    },
    {
     "data": {
      "text/plain": [
       "(7, 51, 15)"
      ]
     },
     "execution_count": 6,
     "metadata": {},
     "output_type": "execute_result"
    }
   ],
   "source": [
    "imp.statistics()"
   ]
  },
  {
   "cell_type": "code",
   "execution_count": 7,
   "id": "5cd62a8d-405d-4b21-a554-39f6639f6ada",
   "metadata": {},
   "outputs": [
    {
     "name": "stdout",
     "output_type": "stream",
     "text": [
      "{'name': 'Palm empty fruit bunches (kg mass)', 'term_type': 'organicFertiliser', 'term_id': 'palmEmptyFruitBunchesKgMass', 'unit': 'kilogram', 'amount': 4250, 'group': 'Palm empty fruit bunches (kg mass)-0', 'type': 'technosphere', 'methodClassificationDescription': 'Best practice, assumed to what happens', 'methodClassification': 'estimated with assumptions'}\n",
      "{'name': 'Palm oil mill effluent (kg mass)', 'term_type': 'organicFertiliser', 'term_id': 'palmOilMillEffluentKgMass', 'unit': 'kilogram', 'amount': 2540, 'group': 'Palm oil mill effluent (kg mass)-0', 'type': 'technosphere', 'methodClassificationDescription': 'Best practice, assumed to what happens', 'methodClassification': 'estimated with assumptions'}\n",
      "{'name': 'Nitrogen in precipitation (kg N)', 'term_type': 'organicFertiliser', 'term_id': 'nitrogenInPrecipitationKgN', 'unit': 'kg N', 'amount': 17.5, 'group': 'Nitrogen in precipitation (kg N)-0', 'type': 'technosphere'}\n",
      "{'name': 'Inorganic Magnesium fertiliser, unspecified (kg Mg)', 'term_type': 'inorganicFertiliser', 'term_id': 'inorganicMagnesiumFertiliserUnspecifiedKgMg', 'unit': 'kg Mg', 'amount': 21, 'group': 'Inorganic Magnesium fertiliser, unspecified (kg Mg)-0', 'type': 'technosphere'}\n",
      "{'name': 'Glyphosate', 'term_type': 'pesticideAI', 'term_id': 'CAS-1071-83-6', 'unit': 'kg active ingredient', 'amount': 2.3, 'group': 'Glyphosate-0', 'type': 'technosphere'}\n",
      "{'name': 'Cypermethrin', 'term_type': 'pesticideAI', 'term_id': 'CAS-52315-07-8', 'unit': 'kg active ingredient', 'amount': 0.3, 'group': 'Cypermethrin-0', 'type': 'technosphere'}\n",
      "{'name': 'Fungicide unspecified (AI)', 'term_type': 'pesticideAI', 'term_id': 'fungicideUnspecifiedAi', 'unit': 'kg active ingredient', 'amount': 0.00018, 'group': 'Fungicide unspecified (AI)-0', 'type': 'technosphere'}\n",
      "{'name': 'Warfarin', 'term_type': 'pesticideAI', 'term_id': 'CAS-81-81-2', 'unit': 'kg active ingredient', 'amount': 0.00022, 'group': 'Warfarin-0', 'type': 'technosphere'}\n",
      "{'name': 'Saplings', 'term_type': 'other', 'term_id': 'saplings', 'unit': 'number', 'amount': 165, 'group': 'Saplings-0', 'type': 'technosphere', 'model': {'@type': 'Term', '@id': 'pooreNemecek2018', 'name': 'Poore & Nemecek (2018)', 'termType': 'model'}}\n",
      "{'type': 'production', 'name': 'Oil palm, fruit', 'unit': 'kilogram', 'amount': 21000, 'transformation_id': None}\n",
      "{'type': 'production', 'name': 'Oil palm, frond', 'unit': 'kilogram', 'amount': 10700, 'transformation_id': None}\n",
      "{'type': 'production', 'name': 'Nitrogen uptake (above ground crop residue)', 'unit': 'kg N', 'amount': 153.54, 'transformation_id': None}\n",
      "{'type': 'production', 'name': 'Phosphorus uptake (above ground crop residue)', 'unit': 'kg P', 'amount': 11.5, 'transformation_id': None}\n",
      "{'type': 'production', 'name': 'Above ground crop residue, left on field', 'unit': 'kg dry matter', 'amount': 10700, 'transformation_id': None}\n",
      "{'type': 'production', 'name': 'Above ground crop residue, removed', 'unit': 'kg dry matter', 'amount': 5018.3, 'transformation_id': None}\n"
     ]
    }
   ],
   "source": [
    "for exc in imp.unlinked:\n",
    "    print(exc)"
   ]
  },
  {
   "cell_type": "code",
   "execution_count": null,
   "id": "917791d8-f361-4442-89d9-526b7880cdb9",
   "metadata": {},
   "outputs": [],
   "source": []
  }
 ],
 "metadata": {
  "kernelspec": {
   "display_name": "Python 3 (ipykernel)",
   "language": "python",
   "name": "python3"
  },
  "language_info": {
   "codemirror_mode": {
    "name": "ipython",
    "version": 3
   },
   "file_extension": ".py",
   "mimetype": "text/x-python",
   "name": "python",
   "nbconvert_exporter": "python",
   "pygments_lexer": "ipython3",
   "version": "3.9.12"
  }
 },
 "nbformat": 4,
 "nbformat_minor": 5
}
