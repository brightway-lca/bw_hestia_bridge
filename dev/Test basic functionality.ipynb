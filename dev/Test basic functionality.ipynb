{
 "cells": [
  {
   "cell_type": "code",
   "execution_count": 1,
   "id": "b3f75293-1179-459c-bc77-c19f08c66285",
   "metadata": {},
   "outputs": [],
   "source": [
    "import bw2data as bd\n",
    "import bw_hestia_bridge as bhb"
   ]
  },
  {
   "cell_type": "code",
   "execution_count": 2,
   "id": "35414d38-ce77-422c-a99e-2ec065d3a850",
   "metadata": {},
   "outputs": [],
   "source": [
    "bd.projects.set_current(\"ecoinvent-3.9-cutoff\")"
   ]
  },
  {
   "cell_type": "code",
   "execution_count": 3,
   "id": "64666ee5-3808-4464-811c-6d281ff9a93b",
   "metadata": {},
   "outputs": [],
   "source": [
    "imp = bhb.HestiaImporter(\"__shpuarrure\", \"ecoinvent-3.9-cutoff\", staging=True)"
   ]
  },
  {
   "cell_type": "code",
   "execution_count": 3,
   "id": "cd12b4f8-bd70-424a-bb74-e47d47abddae",
   "metadata": {},
   "outputs": [],
   "source": [
    "imp = bhb.HestiaImporter(\"5-qkgrlriqqm\", \"ecoinvent-3.9-cutoff\", staging=True)"
   ]
  },
  {
   "cell_type": "code",
   "execution_count": 4,
   "id": "eb8af71c-946d-49d1-aaad-7cf614baba4e",
   "metadata": {},
   "outputs": [
    {
     "name": "stdout",
     "output_type": "stream",
     "text": [
      "Applying strategy: normalize_units\n",
      "Applying strategy: drop_zeros\n",
      "Applying strategy: add_code_from_hestia_attributes\n",
      "Applying strategy: add_database_name\n",
      "Applying strategy: link_ecoinvent_biosphere\n",
      "Applying strategy: link_ecoinvent_technosphere\n",
      "Geomatcher: Used 'AU' for 'Animal housing - New South Wales, Australia'\n",
      "Geomatcher: Used 'AU' for 'Animal housing - New South Wales, Australia'\n",
      "Geomatcher: Used 'AU' for 'Agri-food processor - Australia'\n",
      "Geomatcher: Used 'AU' for 'Agri-food processor - Australia'\n",
      "Geomatcher: Used 'AU' for 'Animal housing - New South Wales, Australia'\n",
      "Geomatcher: Used 'AU' for 'Animal housing - New South Wales, Australia'\n",
      "Geomatcher: Used 'AU' for 'Agri-food processor - Australia'\n",
      "Geomatcher: Used 'AU' for 'Agri-food processor - Australia'\n",
      "Geomatcher: Used 'AU' for 'Animal housing - New South Wales, Australia'\n",
      "Geomatcher: Used 'AU' for 'Animal housing - New South Wales, Australia'\n",
      "Geomatcher: Used 'AU' for 'Cropland - Australia'\n",
      "Geomatcher: Used 'AU' for 'Cropland - Australia'\n",
      "Geomatcher: Used 'AU' for 'Cropland - Australia'\n",
      "Geomatcher: Used 'AU' for 'Cropland - Australia'\n",
      "Geomatcher: Used 'AU' for 'Cropland - Australia'\n",
      "Geomatcher: Used 'AU' for 'Cropland - Australia'\n",
      "Geomatcher: Used 'AU' for 'Cropland - Australia'\n",
      "Geomatcher: Used 'AU' for 'Cropland - Australia'\n",
      "Geomatcher: Used 'US' for 'Agri-food processor - United States'\n",
      "Geomatcher: Used 'US' for 'Agri-food processor - United States'\n",
      "Geomatcher: Used 'AU' for 'Agri-food processor - Australia'\n",
      "Geomatcher: Used 'AU' for 'Agri-food processor - Australia'\n",
      "Geomatcher: Used 'AU' for 'Animal housing - New South Wales, Australia'\n",
      "Geomatcher: Used 'AU' for 'Animal housing - New South Wales, Australia'\n",
      "Geomatcher: Used 'AU' for 'Cropland - Australia'\n",
      "Geomatcher: Used 'AU' for 'Cropland - Australia'\n",
      "Geomatcher: Used 'AU' for 'Cropland - Australia'\n",
      "Geomatcher: Used 'AU' for 'Cropland - Australia'\n",
      "Geomatcher: Used 'AU' for 'Cropland - Australia'\n",
      "Geomatcher: Used 'AU' for 'Cropland - Australia'\n",
      "Geomatcher: Used 'AU' for 'Cropland - Australia'\n",
      "Geomatcher: Used 'AU' for 'Cropland - Australia'\n",
      "Geomatcher: Used 'US' for 'Agri-food processor - United States'\n",
      "Geomatcher: Used 'US' for 'Agri-food processor - United States'\n",
      "Geomatcher: Used 'AU' for 'Animal housing - Queensland, Australia'\n",
      "Geomatcher: Used 'AU' for 'Animal housing - Queensland, Australia'\n",
      "Geomatcher: Used 'AU' for 'Agri-food processor - Australia'\n",
      "Geomatcher: Used 'AU' for 'Agri-food processor - Australia'\n",
      "Geomatcher: Used 'AU' for 'Cropland - Australia'\n",
      "Geomatcher: Used 'AU' for 'Cropland - Australia'\n",
      "Geomatcher: Used 'AU' for 'Cropland - Australia'\n",
      "Geomatcher: Used 'AU' for 'Cropland - Australia'\n",
      "Geomatcher: Used 'AU' for 'Cropland - Australia'\n",
      "Geomatcher: Used 'AU' for 'Cropland - Australia'\n",
      "Geomatcher: Used 'AU' for 'Cropland - Australia'\n",
      "Geomatcher: Used 'AU' for 'Cropland - Australia'\n",
      "Geomatcher: Used 'US' for 'Agri-food processor - United States'\n",
      "Geomatcher: Used 'US' for 'Agri-food processor - United States'\n",
      "Geomatcher: Used 'AU' for 'Agri-food processor - Australia'\n",
      "Geomatcher: Used 'AU' for 'Agri-food processor - Australia'\n",
      "Geomatcher: Used 'AU' for 'Animal housing - Queensland, Australia'\n",
      "Geomatcher: Used 'AU' for 'Animal housing - Queensland, Australia'\n",
      "Geomatcher: Used 'AU' for 'Cropland - Australia'\n",
      "Geomatcher: Used 'AU' for 'Cropland - Australia'\n",
      "Geomatcher: Used 'AU' for 'Cropland - Australia'\n",
      "Geomatcher: Used 'AU' for 'Cropland - Australia'\n",
      "Geomatcher: Used 'AU' for 'Cropland - Australia'\n",
      "Geomatcher: Used 'AU' for 'Cropland - Australia'\n",
      "Geomatcher: Used 'AU' for 'Cropland - Australia'\n",
      "Geomatcher: Used 'AU' for 'Cropland - Australia'\n",
      "Geomatcher: Used 'US' for 'Agri-food processor - United States'\n",
      "Geomatcher: Used 'US' for 'Agri-food processor - United States'\n",
      "Geomatcher: Used 'US' for 'Cropland - United States'\n",
      "Geomatcher: Used 'US' for 'Cropland - United States'\n",
      "Geomatcher: Used 'AU' for 'Cropland - Australia'\n",
      "Geomatcher: Used 'AU' for 'Cropland - Australia'\n",
      "Geomatcher: Used 'AU' for 'Cropland - Australia'\n",
      "Geomatcher: Used 'AU' for 'Cropland - Australia'\n",
      "Geomatcher: Used 'AU' for 'Cropland - Australia'\n",
      "Geomatcher: Used 'AU' for 'Cropland - Australia'\n",
      "Geomatcher: Used 'AU' for 'Cropland - Australia'\n",
      "Geomatcher: Used 'AU' for 'Cropland - Australia'\n",
      "Geomatcher: Used 'US' for 'Agri-food processor - United States'\n",
      "Geomatcher: Used 'US' for 'Agri-food processor - United States'\n",
      "Geomatcher: Used 'AU' for 'Agri-food processor - Australia'\n",
      "Geomatcher: Used 'AU' for 'Agri-food processor - Australia'\n",
      "Geomatcher: Used 'AU' for 'Animal housing - New South Wales, Australia'\n",
      "Geomatcher: Used 'AU' for 'Animal housing - New South Wales, Australia'\n",
      "Applied 6 strategies in 5.49 seconds\n"
     ]
    }
   ],
   "source": [
    "imp.apply_strategies()"
   ]
  },
  {
   "cell_type": "code",
   "execution_count": 5,
   "id": "21080250-d0ba-4e52-8e51-6c6391d89656",
   "metadata": {},
   "outputs": [
    {
     "name": "stdout",
     "output_type": "stream",
     "text": [
      "247 datasets\n",
      "2139 exchanges\n",
      "419 unlinked exchanges\n",
      "  Type production: 25 unique unlinked exchanges\n",
      "  Type technosphere: 36 unique unlinked exchanges\n"
     ]
    },
    {
     "data": {
      "text/plain": [
       "(247, 2139, 419)"
      ]
     },
     "execution_count": 5,
     "metadata": {},
     "output_type": "execute_result"
    }
   ],
   "source": [
    "imp.statistics()"
   ]
  },
  {
   "cell_type": "code",
   "execution_count": 6,
   "id": "5cd62a8d-405d-4b21-a554-39f6639f6ada",
   "metadata": {},
   "outputs": [
    {
     "name": "stdout",
     "output_type": "stream",
     "text": [
      "{'name': 'Excreta, pigs (kg VS)', 'term_type': 'excreta', 'term_id': 'excretaPigsKgVs', 'unit': 'kg VS', 'amount': 4.2, 'group': 'Excreta, pigs (kg VS)-0', 'type': 'technosphere'}\n",
      "{'name': 'Excreta, pigs (kg N)', 'term_type': 'excreta', 'term_id': 'excretaPigsKgN', 'unit': 'kg N', 'amount': 0.4000000000000001, 'group': 'Excreta, pigs (kg N)-0', 'type': 'technosphere'}\n",
      "{'name': 'Generic crop, straw', 'term_type': 'crop', 'term_id': 'genericCropStraw', 'unit': 'kilogram', 'amount': 0.96, 'group': 'Generic crop, straw-0', 'type': 'technosphere'}\n",
      "{'name': 'Excreta, pigs (kg mass)', 'term_type': 'excreta', 'term_id': 'excretaPigsKgMass', 'unit': 'kilogram', 'amount': 52.92926680031639, 'group': 'Excreta, pigs (kg mass)-0', 'type': 'technosphere'}\n",
      "{'type': 'production', 'name': 'Excreta mixtures (kg VS)', 'unit': 'kg VS', 'amount': 4.2, 'transformation_id': '1'}\n",
      "{'type': 'production', 'name': 'Excreta mixtures (kg N)', 'unit': 'kg N', 'amount': 0.3124924784217017, 'transformation_id': '1'}\n",
      "{'type': 'production', 'name': 'Excreta mixtures (kg mass)', 'unit': 'kilogram', 'amount': 52.92926680031639, 'transformation_id': '1'}\n",
      "{'type': 'production', 'name': 'Processed excreta (kg VS)', 'unit': 'kg VS', 'amount': 4.2, 'transformation_id': '2'}\n",
      "{'type': 'production', 'name': 'Processed excreta (kg N)', 'unit': 'kg N', 'amount': 0.2564624784217016, 'transformation_id': '2'}\n",
      "{'type': 'production', 'name': 'Processed excreta (kg mass)', 'unit': 'kilogram', 'amount': 52.92926680031639, 'transformation_id': '2'}\n",
      "{'name': 'Concentrate feed blend', 'term_type': 'processedFood', 'term_id': 'concentrateFeedBlend', 'unit': 'kilogram', 'amount': 22.9, 'group': 'Concentrate feed blend-0', 'type': 'technosphere'}\n",
      "{'name': 'Concrete, depreciated amount per Cycle', 'term_type': 'material', 'term_id': 'concreteDepreciatedAmountPerCycle', 'unit': 'kg/functional unit/Cycle', 'amount': 2.4, 'group': 'Concrete, depreciated amount per Cycle-0', 'type': 'technosphere'}\n",
      "{'name': 'Liquefied petroleum gases (LPG)', 'term_type': 'fuel', 'term_id': 'liquefiedPetroleumGasesLpg', 'unit': 'kilogram', 'amount': 0.2132, 'group': 'Liquefied petroleum gases (LPG)-0', 'type': 'technosphere'}\n",
      "{'name': 'Pig, piglet', 'term_type': 'liveAnimal', 'term_id': 'pigPiglet', 'unit': 'number', 'amount': 1.026, 'group': 'Pig, piglet-0', 'type': 'technosphere'}\n",
      "{'type': 'production', 'name': 'Pig', 'unit': 'number', 'amount': 1, 'transformation_id': None}\n",
      "{'name': 'Wheat, grain', 'term_type': 'crop', 'term_id': 'wheatGrain', 'unit': 'kilogram', 'amount': 767, 'group': 'Wheat, grain-0', 'type': 'technosphere'}\n",
      "{'name': 'Soybean, meal', 'term_type': 'crop', 'term_id': 'soybeanMeal', 'unit': 'kilogram', 'amount': 249, 'group': 'Soybean, meal-0', 'type': 'technosphere'}\n",
      "{'name': 'Tallow', 'term_type': 'animalProduct', 'term_id': 'tallow', 'unit': 'kilogram', 'amount': 14, 'group': 'Tallow-0', 'type': 'technosphere'}\n",
      "{'name': 'L-Lysine, Hydrochloride', 'term_type': 'feedFoodAdditive', 'term_id': 'CAS-657-27-2', 'unit': 'kilogram', 'amount': 1.9, 'group': 'L-Lysine, Hydrochloride-0', 'type': 'technosphere'}\n",
      "{'name': 'Additives, unspecified', 'term_type': 'feedFoodAdditive', 'term_id': 'additivesUnspecified', 'unit': 'kilogram', 'amount': 2.5, 'group': 'Additives, unspecified-0', 'type': 'technosphere'}\n",
      "{'name': 'Water, municipal tap', 'term_type': 'water', 'term_id': 'waterMunicipalTap', 'unit': 'cubic meter', 'amount': 0.655, 'group': 'Water, municipal tap-0', 'type': 'technosphere'}\n",
      "{'type': 'production', 'name': 'Pig, sow', 'unit': 'number', 'amount': 5.1, 'transformation_id': None}\n",
      "{'name': 'Barley, grain (in husk)', 'term_type': 'crop', 'term_id': 'barleyGrainInHusk', 'unit': 'kilogram', 'amount': 631, 'group': 'Barley, grain (in husk)-0', 'type': 'technosphere'}\n",
      "{'name': 'Methionine', 'term_type': 'feedFoodAdditive', 'term_id': 'CAS-59-51-8', 'unit': 'kilogram', 'amount': 0.2, 'group': 'Methionine-0', 'type': 'technosphere'}\n",
      "{'name': 'Threonine', 'term_type': 'feedFoodAdditive', 'term_id': 'CAS-72-19-5', 'unit': 'kilogram', 'amount': 0.2, 'group': 'Threonine-0', 'type': 'technosphere'}\n",
      "{'name': 'Glyphosate', 'term_type': 'pesticideAI', 'term_id': 'CAS-1071-83-6', 'unit': 'kg active ingredient', 'amount': 2.8, 'group': 'Glyphosate-0', 'type': 'technosphere'}\n",
      "{'name': 'Water, irrigation canal', 'term_type': 'water', 'term_id': 'waterIrrigationCanal', 'unit': 'cubic meter', 'amount': 1320, 'group': 'Water, irrigation canal-0', 'type': 'technosphere'}\n",
      "{'name': 'Seed', 'term_type': 'other', 'term_id': 'seed', 'unit': 'kilogram', 'amount': 111, 'group': 'Seed-0', 'type': 'technosphere'}\n",
      "{'type': 'production', 'name': 'Above ground crop residue, total', 'unit': 'kg dry matter', 'amount': 3321.4559999999997, 'transformation_id': None}\n",
      "{'type': 'production', 'name': 'Below ground crop residue', 'unit': 'kg dry matter', 'amount': 1343.9043199999999, 'transformation_id': None}\n",
      "{'type': 'production', 'name': 'Above ground crop residue, burnt', 'unit': 'kg dry matter', 'amount': 611.1479039999999, 'transformation_id': None}\n",
      "{'type': 'production', 'name': 'Above ground crop residue, left on field', 'unit': 'kg dry matter', 'amount': 2710.3080959999998, 'transformation_id': None}\n",
      "{'type': 'production', 'name': 'Lupin, seed (whole)', 'unit': 'kilogram', 'amount': 2000, 'transformation_id': None}\n",
      "{'name': 'Atrazine', 'term_type': 'pesticideAI', 'term_id': 'CAS-1912-24-9', 'unit': 'kg active ingredient', 'amount': 3.2, 'group': 'Atrazine-0', 'type': 'technosphere'}\n",
      "{'name': '2,4-Dichlorophenoxyacetic acid', 'term_type': 'pesticideAI', 'term_id': 'CAS-94-75-7', 'unit': 'kg active ingredient', 'amount': 0.8, 'group': '2,4-Dichlorophenoxyacetic acid-0', 'type': 'technosphere'}\n",
      "{'type': 'production', 'name': 'Sorghum, grain', 'unit': 'kilogram', 'amount': 4500, 'transformation_id': None}\n",
      "{'name': 'Soybean, seed (whole)', 'term_type': 'crop', 'term_id': 'soybeanSeedWhole', 'unit': 'kilogram', 'amount': 1000, 'group': 'Soybean, seed (whole)-0', 'type': 'technosphere'}\n",
      "{'name': 'Hexane', 'term_type': 'other', 'term_id': 'hexane', 'unit': 'kilogram', 'amount': 0.4, 'group': 'Hexane-0', 'type': 'technosphere'}\n",
      "{'name': 'Heating oil', 'term_type': 'fuel', 'term_id': 'heatingOil', 'unit': 'kilogram', 'amount': 3.4939759036144578, 'group': 'Heating oil-0', 'type': 'technosphere'}\n",
      "{'type': 'production', 'name': 'Soybean, oil (crude)', 'unit': 'kilogram', 'amount': 157.8512396694215, 'transformation_id': None}\n",
      "{'name': 'Water, lake or reservoir', 'term_type': 'water', 'term_id': 'waterLakeOrReservoir', 'unit': 'cubic meter', 'amount': 0.324, 'group': 'Water, lake or reservoir-0', 'type': 'technosphere'}\n",
      "{'name': 'Water, pumped groundwater', 'term_type': 'water', 'term_id': 'waterPumpedGroundwater', 'unit': 'cubic meter', 'amount': 0.603, 'group': 'Water, pumped groundwater-0', 'type': 'technosphere'}\n",
      "{'name': 'Water, harvested rainfall', 'term_type': 'water', 'term_id': 'waterHarvestedRainfall', 'unit': 'cubic meter', 'amount': 0.243, 'group': 'Water, harvested rainfall-0', 'type': 'technosphere', 'comment': 'Effluent pond catchment (excreta dilution)'}\n",
      "{'name': 'Maize, grain', 'term_type': 'crop', 'term_id': 'maizeGrain', 'unit': 'kilogram', 'amount': 13, 'group': 'Maize, grain-0', 'type': 'technosphere'}\n",
      "{'name': 'Trolnitrate', 'term_type': 'pesticideAI', 'term_id': 'CAS-1302-78-9', 'unit': 'kg active ingredient', 'amount': 16, 'group': 'Trolnitrate-0', 'type': 'technosphere'}\n"
     ]
    }
   ],
   "source": [
    "for exc in imp.unlinked:\n",
    "    print(exc)"
   ]
  },
  {
   "cell_type": "code",
   "execution_count": null,
   "id": "917791d8-f361-4442-89d9-526b7880cdb9",
   "metadata": {},
   "outputs": [],
   "source": []
  }
 ],
 "metadata": {
  "kernelspec": {
   "display_name": "Python 3 (ipykernel)",
   "language": "python",
   "name": "python3"
  },
  "language_info": {
   "codemirror_mode": {
    "name": "ipython",
    "version": 3
   },
   "file_extension": ".py",
   "mimetype": "text/x-python",
   "name": "python",
   "nbconvert_exporter": "python",
   "pygments_lexer": "ipython3",
   "version": "3.9.12"
  }
 },
 "nbformat": 4,
 "nbformat_minor": 5
}
