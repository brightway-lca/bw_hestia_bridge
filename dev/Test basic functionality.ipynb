{
 "cells": [
  {
   "cell_type": "code",
   "execution_count": 1,
   "id": "b3f75293-1179-459c-bc77-c19f08c66285",
   "metadata": {},
   "outputs": [],
   "source": [
    "import bw2data as bd\n",
    "import bw_hestia_bridge as bhb"
   ]
  },
  {
   "cell_type": "code",
   "execution_count": 2,
   "id": "35414d38-ce77-422c-a99e-2ec065d3a850",
   "metadata": {},
   "outputs": [],
   "source": [
    "bd.projects.set_current(\"ecoinvent-3.9-cutoff\")"
   ]
  },
  {
   "cell_type": "code",
   "execution_count": 3,
   "id": "64666ee5-3808-4464-811c-6d281ff9a93b",
   "metadata": {},
   "outputs": [],
   "source": [
    "imp = bhb.HestiaImporter(\"__shpuarrure\", \"ecoinvent-3.9-cutoff\", staging=True)"
   ]
  },
  {
   "cell_type": "code",
   "execution_count": 3,
   "id": "cd12b4f8-bd70-424a-bb74-e47d47abddae",
   "metadata": {},
   "outputs": [],
   "source": [
    "imp = bhb.HestiaImporter(\"5-qkgrlriqqm\", \"ecoinvent-3.9-cutoff\", staging=True)"
   ]
  },
  {
   "cell_type": "code",
   "execution_count": 4,
   "id": "eb8af71c-946d-49d1-aaad-7cf614baba4e",
   "metadata": {},
   "outputs": [
    {
     "name": "stdout",
     "output_type": "stream",
     "text": [
      "Applying strategy: normalize_units\n",
      "Applying strategy: drop_zeros\n",
      "Applying strategy: add_code_from_hestia_attributes\n",
      "Applying strategy: add_database_name\n",
      "Applying strategy: link_ecoinvent_biosphere\n",
      "Applying strategy: link_ecoinvent_technosphere\n",
      "Geomatcher: Used 'AU' for 'Animal housing - New South Wales, Australia'\n",
      "Geomatcher: Used 'AU' for 'Animal housing - New South Wales, Australia'\n",
      "Geomatcher: Used 'AU' for 'Agri-food processor - Australia'\n",
      "Geomatcher: Used 'AU' for 'Agri-food processor - Australia'\n",
      "Geomatcher: Used 'AU' for 'Animal housing - New South Wales, Australia'\n",
      "Geomatcher: Used 'AU' for 'Animal housing - New South Wales, Australia'\n",
      "Geomatcher: Used 'AU' for 'Agri-food processor - Australia'\n",
      "Geomatcher: Used 'AU' for 'Agri-food processor - Australia'\n",
      "Geomatcher: Used 'AU' for 'Animal housing - New South Wales, Australia'\n",
      "Geomatcher: Used 'AU' for 'Animal housing - New South Wales, Australia'\n",
      "Geomatcher: Used 'AU' for 'Cropland - Australia'\n",
      "Geomatcher: Used 'AU' for 'Cropland - Australia'\n",
      "Geomatcher: Used 'AU' for 'Cropland - Australia'\n",
      "Geomatcher: Used 'AU' for 'Cropland - Australia'\n",
      "Geomatcher: Used 'AU' for 'Cropland - Australia'\n",
      "Geomatcher: Used 'AU' for 'Cropland - Australia'\n",
      "Geomatcher: Used 'AU' for 'Cropland - Australia'\n",
      "Geomatcher: Used 'AU' for 'Cropland - Australia'\n",
      "Geomatcher: Used 'US' for 'Agri-food processor - United States'\n",
      "Geomatcher: Used 'US' for 'Agri-food processor - United States'\n",
      "Geomatcher: Used 'AU' for 'Agri-food processor - Australia'\n",
      "Geomatcher: Used 'AU' for 'Agri-food processor - Australia'\n",
      "Geomatcher: Used 'AU' for 'Animal housing - New South Wales, Australia'\n",
      "Geomatcher: Used 'AU' for 'Animal housing - New South Wales, Australia'\n",
      "Geomatcher: Used 'AU' for 'Cropland - Australia'\n",
      "Geomatcher: Used 'AU' for 'Cropland - Australia'\n",
      "Geomatcher: Used 'AU' for 'Cropland - Australia'\n",
      "Geomatcher: Used 'AU' for 'Cropland - Australia'\n",
      "Geomatcher: Used 'AU' for 'Cropland - Australia'\n",
      "Geomatcher: Used 'AU' for 'Cropland - Australia'\n",
      "Geomatcher: Used 'AU' for 'Cropland - Australia'\n",
      "Geomatcher: Used 'AU' for 'Cropland - Australia'\n",
      "Geomatcher: Used 'US' for 'Agri-food processor - United States'\n",
      "Geomatcher: Used 'US' for 'Agri-food processor - United States'\n",
      "Geomatcher: Used 'AU' for 'Animal housing - Queensland, Australia'\n",
      "Geomatcher: Used 'AU' for 'Animal housing - Queensland, Australia'\n",
      "Geomatcher: Used 'AU' for 'Agri-food processor - Australia'\n",
      "Geomatcher: Used 'AU' for 'Agri-food processor - Australia'\n",
      "Geomatcher: Used 'AU' for 'Cropland - Australia'\n",
      "Geomatcher: Used 'AU' for 'Cropland - Australia'\n",
      "Geomatcher: Used 'AU' for 'Cropland - Australia'\n",
      "Geomatcher: Used 'AU' for 'Cropland - Australia'\n",
      "Geomatcher: Used 'AU' for 'Cropland - Australia'\n",
      "Geomatcher: Used 'AU' for 'Cropland - Australia'\n",
      "Geomatcher: Used 'AU' for 'Cropland - Australia'\n",
      "Geomatcher: Used 'AU' for 'Cropland - Australia'\n",
      "Geomatcher: Used 'US' for 'Agri-food processor - United States'\n",
      "Geomatcher: Used 'US' for 'Agri-food processor - United States'\n",
      "Geomatcher: Used 'AU' for 'Agri-food processor - Australia'\n",
      "Geomatcher: Used 'AU' for 'Agri-food processor - Australia'\n",
      "Geomatcher: Used 'AU' for 'Animal housing - Queensland, Australia'\n",
      "Geomatcher: Used 'AU' for 'Animal housing - Queensland, Australia'\n",
      "Geomatcher: Used 'AU' for 'Cropland - Australia'\n",
      "Geomatcher: Used 'AU' for 'Cropland - Australia'\n",
      "Geomatcher: Used 'AU' for 'Cropland - Australia'\n",
      "Geomatcher: Used 'AU' for 'Cropland - Australia'\n",
      "Geomatcher: Used 'AU' for 'Cropland - Australia'\n",
      "Geomatcher: Used 'AU' for 'Cropland - Australia'\n",
      "Geomatcher: Used 'AU' for 'Cropland - Australia'\n",
      "Geomatcher: Used 'AU' for 'Cropland - Australia'\n",
      "Geomatcher: Used 'US' for 'Agri-food processor - United States'\n",
      "Geomatcher: Used 'US' for 'Agri-food processor - United States'\n",
      "Geomatcher: Used 'US' for 'Cropland - United States'\n",
      "Geomatcher: Used 'US' for 'Cropland - United States'\n",
      "Geomatcher: Used 'AU' for 'Cropland - Australia'\n",
      "Geomatcher: Used 'AU' for 'Cropland - Australia'\n",
      "Geomatcher: Used 'AU' for 'Cropland - Australia'\n",
      "Geomatcher: Used 'AU' for 'Cropland - Australia'\n",
      "Geomatcher: Used 'AU' for 'Cropland - Australia'\n",
      "Geomatcher: Used 'AU' for 'Cropland - Australia'\n",
      "Geomatcher: Used 'AU' for 'Cropland - Australia'\n",
      "Geomatcher: Used 'AU' for 'Cropland - Australia'\n",
      "Geomatcher: Used 'US' for 'Agri-food processor - United States'\n",
      "Geomatcher: Used 'US' for 'Agri-food processor - United States'\n",
      "Geomatcher: Used 'AU' for 'Agri-food processor - Australia'\n",
      "Geomatcher: Used 'AU' for 'Agri-food processor - Australia'\n",
      "Geomatcher: Used 'AU' for 'Animal housing - New South Wales, Australia'\n",
      "Geomatcher: Used 'AU' for 'Animal housing - New South Wales, Australia'\n",
      "Applied 6 strategies in 5.39 seconds\n"
     ]
    }
   ],
   "source": [
    "imp.apply_strategies()"
   ]
  },
  {
   "cell_type": "code",
   "execution_count": 5,
   "id": "21080250-d0ba-4e52-8e51-6c6391d89656",
   "metadata": {},
   "outputs": [
    {
     "name": "stdout",
     "output_type": "stream",
     "text": [
      "247 datasets\n",
      "2139 exchanges\n",
      "419 unlinked exchanges\n",
      "  Type production: 25 unique unlinked exchanges\n",
      "  Type technosphere: 36 unique unlinked exchanges\n"
     ]
    },
    {
     "data": {
      "text/plain": [
       "(247, 2139, 419)"
      ]
     },
     "execution_count": 5,
     "metadata": {},
     "output_type": "execute_result"
    }
   ],
   "source": [
    "imp.statistics()"
   ]
  },
  {
   "cell_type": "code",
   "execution_count": 6,
   "id": "5cd62a8d-405d-4b21-a554-39f6639f6ada",
   "metadata": {},
   "outputs": [
    {
     "name": "stdout",
     "output_type": "stream",
     "text": [
      "{'name': 'Excreta, pigs (kg VS)', 'term_type': 'excreta', 'term_id': 'excretaPigsKgVs', 'unit': 'kg VS', 'amount': 4.2, 'group': 'Excreta, pigs (kg VS)-0', 'type': 'technosphere'}\n"
     ]
    }
   ],
   "source": [
    "for exc in imp.unlinked:\n",
    "    if exc.get('name') == 'Excreta, pigs (kg VS)':\n",
    "        print(exc)"
   ]
  },
  {
   "cell_type": "code",
   "execution_count": 9,
   "id": "917791d8-f361-4442-89d9-526b7880cdb9",
   "metadata": {},
   "outputs": [
    {
     "name": "stdout",
     "output_type": "stream",
     "text": [
      "{'name': 'Excreta, pigs (kg VS)', 'term_type': 'excreta', 'term_id': 'excretaPigsKgVs', 'unit': 'kg VS', 'transformation_id': None, 'type': 'product', 'price': {'price': 0, 'currency': 'USD'}, 'revenue': 0, 'code': '8b07c1d3b67f777c47937a326134fcfc', 'database': 'Hestia cycle 5-qkgrlriqqm'}\n",
      "\n",
      "{'name': 'Excreta, pigs (kg VS)', 'term_type': 'excreta', 'term_id': 'excretaPigsKgVs', 'unit': 'kg VS', 'transformation_id': None, 'type': 'product', 'price': {'price': 0, 'currency': 'USD'}, 'economicValueShare': 0, 'revenue': 0, 'graph_element': {'from': {'@id': {'@id': 'baca63dqlc6n', '@type': 'Cycle'}, '@type': 'Cycle'}, 'to': {'@id': '5-qkgrlriqqm', '@type': 'Cycle'}, 'via': {'term': {'@type': 'Term', 'termType': 'liveAnimal', 'name': 'Pig, piglet', 'units': 'number', '@id': 'pigPiglet'}, '@type': 'Product'}}, 'code': '8b07c1d3b67f777c47937a326134fcfc', 'database': 'Hestia cycle 5-qkgrlriqqm'}\n",
      "\n",
      "{'name': 'Excreta, pigs (kg VS)', 'term_type': 'excreta', 'term_id': 'excretaPigsKgVs', 'unit': 'kg VS', 'transformation_id': '1', 'type': 'product', 'price': {'price': 0, 'currency': 'USD'}, 'revenue': 0, 'graph_element': {'from': {'@id': {'@id': 'baca63dqlc6n', '@type': 'Cycle'}, '@type': 'Cycle'}, 'to': {'@id': '5-qkgrlriqqm', '@type': 'Cycle'}, 'via': {'term': {'@type': 'Term', 'termType': 'liveAnimal', 'name': 'Pig, piglet', 'units': 'number', '@id': 'pigPiglet'}, '@type': 'Product'}}, 'code': '2be2db73a63f9f98cbd14b7f4f8046e0', 'database': 'Hestia cycle 5-qkgrlriqqm'}\n",
      "\n",
      "{'name': 'Excreta, pigs (kg VS)', 'term_type': 'excreta', 'term_id': 'excretaPigsKgVs', 'unit': 'kg VS', 'transformation_id': None, 'type': 'product', 'price': {'price': 0, 'currency': 'USD'}, 'revenue': 0, 'graph_element': {'from': {'@id': {'@id': 'dtuu4ypu6yi8', '@type': 'Cycle'}, '@type': 'Cycle'}, 'to': {'@id': 'c7gj8rszxxpy', '@type': 'Cycle'}, 'via': {'term': {'@type': 'Term', 'termType': 'liveAnimal', 'name': 'Pig', 'units': 'number', '@id': 'pig'}, '@type': 'Product'}}, 'code': '8b07c1d3b67f777c47937a326134fcfc', 'database': 'Hestia cycle 5-qkgrlriqqm'}\n",
      "\n",
      "{'name': 'Excreta, pigs (kg VS)', 'term_type': 'excreta', 'term_id': 'excretaPigsKgVs', 'unit': 'kg VS', 'transformation_id': None, 'type': 'product', 'price': {'price': 0, 'currency': 'USD'}, 'revenue': 0, 'graph_element': {'from': {'@id': {'@id': '5-qkgrlriqqm', '@type': 'Cycle'}, '@type': 'Cycle'}, 'to': {'@id': 'dtuu4ypu6yi8', '@type': 'Cycle'}, 'via': {'term': {'@type': 'Term', 'termType': 'liveAnimal', 'name': 'Pig', 'units': 'number', '@id': 'pig'}, '@type': 'Product'}}, 'code': '8b07c1d3b67f777c47937a326134fcfc', 'database': 'Hestia cycle 5-qkgrlriqqm'}\n",
      "\n",
      "{'name': 'Excreta, pigs (kg VS)', 'term_type': 'excreta', 'term_id': 'excretaPigsKgVs', 'unit': 'kg VS', 'transformation_id': None, 'type': 'product', 'price': {'price': 0, 'currency': 'USD'}, 'economicValueShare': 0, 'revenue': 0, 'graph_element': {'from': {'@id': {'@id': 'k640hue4ht4r', '@type': 'Cycle'}, '@type': 'Cycle'}, 'to': {'@id': 'jdwt2wu31y8k', '@type': 'Cycle'}, 'via': {'term': {'@type': 'Term', 'termType': 'liveAnimal', 'name': 'Pig', 'units': 'number', '@id': 'pig'}, '@type': 'Product'}}, 'code': '8b07c1d3b67f777c47937a326134fcfc', 'database': 'Hestia cycle 5-qkgrlriqqm'}\n",
      "\n",
      "{'name': 'Excreta, pigs (kg VS)', 'term_type': 'excreta', 'term_id': 'excretaPigsKgVs', 'unit': 'kg VS', 'transformation_id': '1', 'type': 'product', 'price': {'price': 0, 'currency': 'USD'}, 'revenue': 0, 'graph_element': {'from': {'@id': {'@id': 'k640hue4ht4r', '@type': 'Cycle'}, '@type': 'Cycle'}, 'to': {'@id': 'jdwt2wu31y8k', '@type': 'Cycle'}, 'via': {'term': {'@type': 'Term', 'termType': 'liveAnimal', 'name': 'Pig', 'units': 'number', '@id': 'pig'}, '@type': 'Product'}}, 'code': '2be2db73a63f9f98cbd14b7f4f8046e0', 'database': 'Hestia cycle 5-qkgrlriqqm'}\n",
      "\n",
      "{'name': 'Excreta, pigs (kg VS)', 'term_type': 'excreta', 'term_id': 'excretaPigsKgVs', 'unit': 'kg VS', 'transformation_id': None, 'type': 'product', 'price': {'price': 0, 'currency': 'USD'}, 'economicValueShare': 0, 'revenue': 0, 'graph_element': {'from': {'@id': {'@id': 'jeaojbdcmpxg', '@type': 'Cycle'}, '@type': 'Cycle'}, 'to': {'@id': 'k640hue4ht4r', '@type': 'Cycle'}, 'via': {'term': {'@type': 'Term', 'termType': 'liveAnimal', 'name': 'Pig', 'units': 'number', '@id': 'pig'}, '@type': 'Product'}}, 'code': '8b07c1d3b67f777c47937a326134fcfc', 'database': 'Hestia cycle 5-qkgrlriqqm'}\n",
      "\n",
      "{'name': 'Excreta, pigs (kg VS)', 'term_type': 'excreta', 'term_id': 'excretaPigsKgVs', 'unit': 'kg VS', 'transformation_id': '1', 'type': 'product', 'price': {'price': 0, 'currency': 'USD'}, 'revenue': 0, 'graph_element': {'from': {'@id': {'@id': 'jeaojbdcmpxg', '@type': 'Cycle'}, '@type': 'Cycle'}, 'to': {'@id': 'k640hue4ht4r', '@type': 'Cycle'}, 'via': {'term': {'@type': 'Term', 'termType': 'liveAnimal', 'name': 'Pig', 'units': 'number', '@id': 'pig'}, '@type': 'Product'}}, 'code': '2be2db73a63f9f98cbd14b7f4f8046e0', 'database': 'Hestia cycle 5-qkgrlriqqm'}\n",
      "\n",
      "{'name': 'Excreta, pigs (kg VS)', 'term_type': 'excreta', 'term_id': 'excretaPigsKgVs', 'unit': 'kg VS', 'transformation_id': None, 'type': 'product', 'price': {'price': 0, 'currency': 'USD'}, 'economicValueShare': 0, 'revenue': 0, 'graph_element': {'from': {'@id': {'@id': 'baca63dqlc6n', '@type': 'Cycle'}, '@type': 'Cycle'}, 'to': {'@id': 'yjxm1otwt55d', '@type': 'Cycle'}, 'via': {'term': {'@type': 'Term', 'termType': 'liveAnimal', 'name': 'Pig, piglet', 'units': 'number', '@id': 'pigPiglet'}, '@type': 'Product'}}, 'code': '8b07c1d3b67f777c47937a326134fcfc', 'database': 'Hestia cycle 5-qkgrlriqqm'}\n",
      "\n",
      "{'name': 'Excreta, pigs (kg VS)', 'term_type': 'excreta', 'term_id': 'excretaPigsKgVs', 'unit': 'kg VS', 'transformation_id': '1', 'type': 'product', 'price': {'price': 0, 'currency': 'USD'}, 'revenue': 0, 'graph_element': {'from': {'@id': {'@id': 'baca63dqlc6n', '@type': 'Cycle'}, '@type': 'Cycle'}, 'to': {'@id': 'yjxm1otwt55d', '@type': 'Cycle'}, 'via': {'term': {'@type': 'Term', 'termType': 'liveAnimal', 'name': 'Pig, piglet', 'units': 'number', '@id': 'pigPiglet'}, '@type': 'Product'}}, 'code': '2be2db73a63f9f98cbd14b7f4f8046e0', 'database': 'Hestia cycle 5-qkgrlriqqm'}\n",
      "\n"
     ]
    }
   ],
   "source": [
    "for ds in imp.data:\n",
    "    if ds['name'] == 'Excreta, pigs (kg VS)':\n",
    "        print(ds)\n",
    "        print()"
   ]
  },
  {
   "cell_type": "code",
   "execution_count": null,
   "id": "f4e5f2eb-e444-4d34-af97-7199d5bf392c",
   "metadata": {},
   "outputs": [],
   "source": []
  }
 ],
 "metadata": {
  "kernelspec": {
   "display_name": "Python 3 (ipykernel)",
   "language": "python",
   "name": "python3"
  },
  "language_info": {
   "codemirror_mode": {
    "name": "ipython",
    "version": 3
   },
   "file_extension": ".py",
   "mimetype": "text/x-python",
   "name": "python",
   "nbconvert_exporter": "python",
   "pygments_lexer": "ipython3",
   "version": "3.9.12"
  }
 },
 "nbformat": 4,
 "nbformat_minor": 5
}
